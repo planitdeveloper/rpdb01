{
 "cells": [
  {
   "cell_type": "code",
   "execution_count": 0,
   "metadata": {
    "application/vnd.databricks.v1+cell": {
     "cellMetadata": {},
     "inputWidgets": {},
     "nuid": "4c7c2043-6f95-474a-8c79-1efa7c4340d1",
     "showTitle": false,
     "tableResultSettingsMap": {},
     "title": ""
    }
   },
   "outputs": [],
   "source": [
    "# 노트북에서 SQL을 실행해서 INSERT혹은 SELECT할 경우는 DBU가 Job에 해당하는건지... SQL에 해당하는건지 ?"
   ]
  },
  {
   "cell_type": "code",
   "execution_count": 0,
   "metadata": {
    "application/vnd.databricks.v1+cell": {
     "cellMetadata": {
      "byteLimit": 2048000,
      "implicitDf": true,
      "rowLimit": 10000
     },
     "inputWidgets": {},
     "nuid": "5f611b6a-1565-44a2-818c-2975dc5958db",
     "showTitle": false,
     "tableResultSettingsMap": {},
     "title": ""
    }
   },
   "outputs": [
    {
     "data": {
      "text/html": [
       "<style scoped>\n",
       "  .table-result-container {\n",
       "    max-height: 300px;\n",
       "    overflow: auto;\n",
       "  }\n",
       "  table, th, td {\n",
       "    border: 1px solid black;\n",
       "    border-collapse: collapse;\n",
       "  }\n",
       "  th, td {\n",
       "    padding: 5px;\n",
       "  }\n",
       "  th {\n",
       "    text-align: left;\n",
       "  }\n",
       "</style><div class='table-result-container'><table class='table-result'><thead style='background-color: white'><tr><th>num_affected_rows</th><th>num_inserted_rows</th></tr></thead><tbody><tr><td>1</td><td>1</td></tr></tbody></table></div>"
      ]
     },
     "metadata": {
      "application/vnd.databricks.v1+output": {
       "addedWidgets": {},
       "aggData": [],
       "aggError": "",
       "aggOverflow": false,
       "aggSchema": [],
       "aggSeriesLimitReached": false,
       "aggType": "",
       "arguments": {},
       "columnCustomDisplayInfos": {},
       "data": [
        [
         1,
         1
        ]
       ],
       "datasetInfos": [
        {
         "name": "_sqldf",
         "schema": {
          "fields": [
           {
            "metadata": {},
            "name": "num_affected_rows",
            "nullable": true,
            "type": "long"
           },
           {
            "metadata": {},
            "name": "num_inserted_rows",
            "nullable": true,
            "type": "long"
           }
          ],
          "type": "struct"
         },
         "tableIdentifier": null,
         "typeStr": "pyspark.sql.connect.dataframe.DataFrame"
        }
       ],
       "dbfsResultPath": null,
       "isJsonSchema": true,
       "metadata": {
        "createTempViewForImplicitDf": true,
        "dataframeName": "_sqldf",
        "executionCount": 1
       },
       "overflow": false,
       "plotOptions": {
        "customPlotOptions": {},
        "displayType": "table",
        "pivotAggregation": null,
        "pivotColumns": null,
        "xColumns": null,
        "yColumns": null
       },
       "removedWidgets": [],
       "schema": [
        {
         "metadata": "{}",
         "name": "num_affected_rows",
         "type": "\"long\""
        },
        {
         "metadata": "{}",
         "name": "num_inserted_rows",
         "type": "\"long\""
        }
       ],
       "type": "table"
      }
     },
     "output_type": "display_data"
    }
   ],
   "source": [
    "%sql\n",
    "INSERT INTO ctdwpoc.scdwpoc.dept (DEPTNO, DNAME, LOC)\n",
    "VALUES (91, '마라도', '제주도서쪽에서 약간 남쪽으로')"
   ]
  },
  {
   "cell_type": "code",
   "execution_count": 0,
   "metadata": {
    "application/vnd.databricks.v1+cell": {
     "cellMetadata": {
      "byteLimit": 2048000,
      "implicitDf": true,
      "rowLimit": 10000
     },
     "inputWidgets": {},
     "nuid": "aad70715-aac3-44d1-b57f-c183e1f062d0",
     "showTitle": false,
     "tableResultSettingsMap": {},
     "title": ""
    }
   },
   "outputs": [
    {
     "data": {
      "text/html": [
       "<style scoped>\n",
       "  .table-result-container {\n",
       "    max-height: 300px;\n",
       "    overflow: auto;\n",
       "  }\n",
       "  table, th, td {\n",
       "    border: 1px solid black;\n",
       "    border-collapse: collapse;\n",
       "  }\n",
       "  th, td {\n",
       "    padding: 5px;\n",
       "  }\n",
       "  th {\n",
       "    text-align: left;\n",
       "  }\n",
       "</style><div class='table-result-container'><table class='table-result'><thead style='background-color: white'><tr><th>DEPTNO</th><th>DNAME</th><th>LOC</th></tr></thead><tbody><tr><td>100</td><td>98ud8392ye8293y98ud8392ye8293y98ud8392ye8293y98ud8392ye8293y98ud8392ye8293y98ud8392ye8293y98ud8392ye8293y98ud8392ye8293y98ud8392ye8293y98ud8392ye8293y98ud8392ye8293y98ud8392ye8293y98ud8392ye8293y98ud8392ye8293y98ud8392ye8293y98ud8392ye8293y98ud8392ye8293y98ud8392ye8293y98ud8392ye8293y98ud8392ye8293y98ud8392ye8293y98ud8392ye8293y98ud8392ye8293y98ud8392ye8293y98ud8392ye8293y98ud8392ye8293y98ud8392ye8293y98ud8392ye8293y98ud8392ye8293y98ud8392ye8293y98ud8392ye8293y98ud8392ye8293y98ud8392ye8293y98ud8392ye8293y98ud8392ye8293y98ud8392ye8293y98ud8392ye8293y98ud8392ye8293y98ud8392ye8293y98ud8392ye8293y98ud8392ye8293y98ud8392ye8293y98ud8392ye8293y98ud8392ye8293y98ud8392ye8293y98ud8392ye8293y98ud8392ye8293y98ud8392ye8293y98ud8392ye8293y98ud8392ye8293y98ud8392ye8293y98ud8392ye8293y98ud8392ye8293y98ud8392ye8293y98ud8392ye8293y98ud8392ye8293y98ud8392ye8293y98ud8392ye8293y98ud8392ye8293y98ud8392ye8293y98ud8392ye8293y98ud8392ye8293y98ud8392ye8293y98ud8392ye8293y98ud8392ye8293y98ud8392ye8293y98ud8392ye8293y98ud8392ye8293y98ud8392ye8293y98ud8392ye8293y98ud8392ye8293y98ud8392ye8293y98ud8392ye8293y98ud8392ye8293y98ud8392ye8293y98ud8392ye8293y98ud8392ye8293y98ud8392ye8293y98ud8392ye8293y98ud8392ye8293y98ud8392ye8293y98ud8392ye8293y98ud8392ye8293y98ud8392ye8293y98ud8392ye8293y98ud8392ye8293y98ud8392ye8293y98ud8392ye8293y98ud8392ye8293y98ud8392ye8293y98ud8392ye8293y98ud8392ye8293y98ud8392ye8293y98ud8392ye8293y98ud8392ye8293y98ud8392ye8293y98ud8392ye8293y98ud8392ye8293y98ud8392ye8293y98ud8392ye8293y98ud8392ye8293y98ud8392ye8293y98ud8392ye8293y98ud8392ye8293y</td><td></td></tr><tr><td>90</td><td>우도</td><td>제주도밑</td></tr><tr><td>10</td><td>ACCOUNTING</td><td>NEW YORK</td></tr><tr><td>20</td><td>RESEARCH</td><td>DALLAS</td></tr><tr><td>30</td><td>SALES</td><td>CHICAGO</td></tr><tr><td>40</td><td>OPERATIONS</td><td>BOSTON</td></tr><tr><td>10</td><td>제주</td><td>제주도</td></tr></tbody></table></div>"
      ]
     },
     "metadata": {
      "application/vnd.databricks.v1+output": {
       "addedWidgets": {},
       "aggData": [],
       "aggError": "",
       "aggOverflow": false,
       "aggSchema": [],
       "aggSeriesLimitReached": false,
       "aggType": "",
       "arguments": {},
       "columnCustomDisplayInfos": {},
       "data": [
        [
         100,
         "98ud8392ye8293y98ud8392ye8293y98ud8392ye8293y98ud8392ye8293y98ud8392ye8293y98ud8392ye8293y98ud8392ye8293y98ud8392ye8293y98ud8392ye8293y98ud8392ye8293y98ud8392ye8293y98ud8392ye8293y98ud8392ye8293y98ud8392ye8293y98ud8392ye8293y98ud8392ye8293y98ud8392ye8293y98ud8392ye8293y98ud8392ye8293y98ud8392ye8293y98ud8392ye8293y98ud8392ye8293y98ud8392ye8293y98ud8392ye8293y98ud8392ye8293y98ud8392ye8293y98ud8392ye8293y98ud8392ye8293y98ud8392ye8293y98ud8392ye8293y98ud8392ye8293y98ud8392ye8293y98ud8392ye8293y98ud8392ye8293y98ud8392ye8293y98ud8392ye8293y98ud8392ye8293y98ud8392ye8293y98ud8392ye8293y98ud8392ye8293y98ud8392ye8293y98ud8392ye8293y98ud8392ye8293y98ud8392ye8293y98ud8392ye8293y98ud8392ye8293y98ud8392ye8293y98ud8392ye8293y98ud8392ye8293y98ud8392ye8293y98ud8392ye8293y98ud8392ye8293y98ud8392ye8293y98ud8392ye8293y98ud8392ye8293y98ud8392ye8293y98ud8392ye8293y98ud8392ye8293y98ud8392ye8293y98ud8392ye8293y98ud8392ye8293y98ud8392ye8293y98ud8392ye8293y98ud8392ye8293y98ud8392ye8293y98ud8392ye8293y98ud8392ye8293y98ud8392ye8293y98ud8392ye8293y98ud8392ye8293y98ud8392ye8293y98ud8392ye8293y98ud8392ye8293y98ud8392ye8293y98ud8392ye8293y98ud8392ye8293y98ud8392ye8293y98ud8392ye8293y98ud8392ye8293y98ud8392ye8293y98ud8392ye8293y98ud8392ye8293y98ud8392ye8293y98ud8392ye8293y98ud8392ye8293y98ud8392ye8293y98ud8392ye8293y98ud8392ye8293y98ud8392ye8293y98ud8392ye8293y98ud8392ye8293y98ud8392ye8293y98ud8392ye8293y98ud8392ye8293y98ud8392ye8293y98ud8392ye8293y98ud8392ye8293y98ud8392ye8293y98ud8392ye8293y98ud8392ye8293y98ud8392ye8293y98ud8392ye8293y98ud8392ye8293y98ud8392ye8293y",
         ""
        ],
        [
         90,
         "우도",
         "제주도밑"
        ],
        [
         10,
         "ACCOUNTING",
         "NEW YORK"
        ],
        [
         20,
         "RESEARCH",
         "DALLAS"
        ],
        [
         30,
         "SALES",
         "CHICAGO"
        ],
        [
         40,
         "OPERATIONS",
         "BOSTON"
        ],
        [
         10,
         "제주",
         "제주도"
        ]
       ],
       "datasetInfos": [
        {
         "name": "_sqldf",
         "schema": {
          "fields": [
           {
            "metadata": {
             "comment": "iuwerfjhiuoqejhdliuwqedhiluqwhdiquwhdiuwqhduiwehfiuqwehfdiuwehfiuwehfdiuewqhfiuwehfuiqwehduiqwhduiqwhdiuqwhduqwihdiuehuiwehfuiwhfuiqhfqiluhfdqwiludhqwiludhqwiludhqwliudhlqiwufhwleifuhqliudfhqwilduhwqdliuqwhliuqhdiulqwhhhhhhhhhhhhhhhhhhhhheueeeeeeeeeeeeeeeeeeeeeeeeeeeeeeeeeeeeeeeeeeeeeeeeeeeeeeeeeeeeeeeeeeeeeeeeeeeeeeeeiuwerfjhiuoqejhdliuwqedhiluqwhdiquwhdiuwqhduiwehfiuqwehfdiuwehfiuwehfdiuewqhfiuwehfuiqwehduiqwhduiqwhdiuqwhduqwihdiuehuiwehfuiwhfuiqhfqiluhfdqwiludhqwiludhqwiludhqwliudhlqiwufhwleifuhqliudfhqwilduhwqdliuqwhliuqhdiulqwhhhhhhhhhhhhhhhhhhhhheueeeeeeeeeeeeeeeeeeeeeeeeeeeeeeeeeeeeeeeeeeeeeeeeeeeeeeeeeeeeeeeeeeeeeeeeeeeeeeeeiuwerfjhiuoqejhdliuwqedhiluqwhdiquwhdiuwqhduiwehfiuqwehfdiuwehfiuwehfdiuewqhfiuwehfuiqwehduiqwhduiqwhdiuqwhduqwihdiuehuiwehfuiwhfuiqhfqiluhfdqwiludhqwiludhqwiludhqwliudhlqiwufhwleifuhqliudfhqwilduhwqdliuqwhliuqhdiulqwhhhhhhhhhhhhhhhhhhhhheueeeeeeeeeeeeeeeeeeeeeeeeeeeeeeeeeeeeeeeeeeeeeeeeeeeeeeeeeeeeeeeeeeeeeeeeeeeeeeeeiuwerfjhiuoqejhdliuwqedhiluqwhdiquwhdiuwqhduiwehfiuqwehfdiuwehfiuwehfdiuewqhfiuwehfuiqwehduiqwhduiqwhdiuqwhduqwihdiuehuiwehfuiwhfuiqhfqiluhfdqwiludhqwiludhqwiludhqwliudhlqiwufhwleifuhqliudfhqwilduhwqdliuqwhliuqhdiulqwhhhhhhhhhhhhhhhhhhhhheueeeeeeeeeeeeeeeeeeeeeeeeeeeeeeeeeeeeeeeeeeeeeeeeeeeeeeeeeeeeeeeeeeeeeeeeeeeeeeeeiuwerfjhiuoqejhdliuwqedhiluqwhdiquwhdiuwqhduiwehfiuqwehfdiuwehfiuwehfdiuewqhfiuwehfuiqwehduiqwhduiqwhdiuqwhduqwihdiuehuiwehfuiwhfuiqhfqiluhfdqwiludhqwiludhqwiludhqwliudhlqiwufhwleifuhqliudfhqwilduhwqdliuqwhliuqhdiulqwhhhhhhhhhhhhhhhhhhhhheueeeeeeeeeeeeeeeeeeeeeeeeeeeeeeeeeeeeeeeeeeeeeeeeeeeeeeeeeeeeeeeeeeeeeeeeeeeeeeeeiuwerfjhiuoqejhdliuwqedhiluqwhdiquwhdiuwqhduiwehfiuqwehfdiuwehfiuwehfdiuewqhfiuwehfuiqwehduiqwhduiqwhdiuqwhduqwihdiuehuiwehfuiwhfuiqhfqiluhfdqwiludhqwiludhqwiludhqwliudhlqiwufhwleifuhqliudfhqwilduhwqdliuqwhliuqhdiulqwhhhhhhhhhhhhhhhhhhhhheueeeeeeeeeeeeeeeeeeeeeeeeeeeeeeeeeeeeeeeeeeeeeeeeeeeeeeeeeeeeeeeeeeeeeeeeeeeeeeeeiuwerfjhiuoqejhdliuwqedhiluqwhdiquwhdiuwqhduiwehfiuqwehfdiuwehfiuwehfdiuewqhfiuwehfuiqwehduiqwhduiqwhdiuqwhduqwihdiuehuiwehfuiwhfuiqhfqiluhfdqwiludhqwiludhqwiludhqwliudhlqiwufhwleifuhqliudfhqwilduhwqdliuqwhliuqhdiulqwhhhhhhhhhhhhhhhhhhhhheueeeeeeeeeeeeeeeeeeeeeeeeeeeeeeeeeeeeeeeeeeeeeeeeeeeeeeeeeeeeeeeeeeeeeeeeeeeeeeeeiuwerfjhiuoqejhdliuwqedhiluqwhdiquwhdiuwqhduiwehfiuqwehfdiuwehfiuwehfdiuewqhfiuwehfuiqwehduiqwhduiqwhdiuqwhduqwihdiuehuiwehfuiwhfuiqhfqiluhfdqwiludhqwiludhqwiludhqwliudhlqiwufhwleifuhqliudfhqwilduhwqdliuqwhliuqhdiulqwhhhhhhhhhhhhhhhhhhhhheueeeeeeeeeeeeeeeeeeeeeeeeeeeeeeeeeeeeeeeeeeeeeeeeeeeeeeeeeeeeeeeeeeeeeeeeeeeeeeee"
            },
            "name": "DEPTNO",
            "nullable": true,
            "type": "long"
           },
           {
            "metadata": {},
            "name": "DNAME",
            "nullable": true,
            "type": "string"
           },
           {
            "metadata": {},
            "name": "LOC",
            "nullable": true,
            "type": "string"
           }
          ],
          "type": "struct"
         },
         "tableIdentifier": null,
         "typeStr": "pyspark.sql.connect.dataframe.DataFrame"
        }
       ],
       "dbfsResultPath": null,
       "isJsonSchema": true,
       "metadata": {
        "createTempViewForImplicitDf": true,
        "dataframeName": "_sqldf",
        "executionCount": 2
       },
       "overflow": false,
       "plotOptions": {
        "customPlotOptions": {},
        "displayType": "table",
        "pivotAggregation": null,
        "pivotColumns": null,
        "xColumns": null,
        "yColumns": null
       },
       "removedWidgets": [],
       "schema": [
        {
         "metadata": "{\"comment\":\"iuwerfjhiuoqejhdliuwqedhiluqwhdiquwhdiuwqhduiwehfiuqwehfdiuwehfiuwehfdiuewqhfiuwehfuiqwehduiqwhduiqwhdiuqwhduqwihdiuehuiwehfuiwhfuiqhfqiluhfdqwiludhqwiludhqwiludhqwliudhlqiwufhwleifuhqliudfhqwilduhwqdliuqwhliuqhdiulqwhhhhhhhhhhhhhhhhhhhhheueeeeeeeeeeeeeeeeeeeeeeeeeeeeeeeeeeeeeeeeeeeeeeeeeeeeeeeeeeeeeeeeeeeeeeeeeeeeeeeeiuwerfjhiuoqejhdliuwqedhiluqwhdiquwhdiuwqhduiwehfiuqwehfdiuwehfiuwehfdiuewqhfiuwehfuiqwehduiqwhduiqwhdiuqwhduqwihdiuehuiwehfuiwhfuiqhfqiluhfdqwiludhqwiludhqwiludhqwliudhlqiwufhwleifuhqliudfhqwilduhwqdliuqwhliuqhdiulqwhhhhhhhhhhhhhhhhhhhhheueeeeeeeeeeeeeeeeeeeeeeeeeeeeeeeeeeeeeeeeeeeeeeeeeeeeeeeeeeeeeeeeeeeeeeeeeeeeeeeeiuwerfjhiuoqejhdliuwqedhiluqwhdiquwhdiuwqhduiwehfiuqwehfdiuwehfiuwehfdiuewqhfiuwehfuiqwehduiqwhduiqwhdiuqwhduqwihdiuehuiwehfuiwhfuiqhfqiluhfdqwiludhqwiludhqwiludhqwliudhlqiwufhwleifuhqliudfhqwilduhwqdliuqwhliuqhdiulqwhhhhhhhhhhhhhhhhhhhhheueeeeeeeeeeeeeeeeeeeeeeeeeeeeeeeeeeeeeeeeeeeeeeeeeeeeeeeeeeeeeeeeeeeeeeeeeeeeeeeeiuwerfjhiuoqejhdliuwqedhiluqwhdiquwhdiuwqhduiwehfiuqwehfdiuwehfiuwehfdiuewqhfiuwehfuiqwehduiqwhduiqwhdiuqwhduqwihdiuehuiwehfuiwhfuiqhfqiluhfdqwiludhqwiludhqwiludhqwliudhlqiwufhwleifuhqliudfhqwilduhwqdliuqwhliuqhdiulqwhhhhhhhhhhhhhhhhhhhhheueeeeeeeeeeeeeeeeeeeeeeeeeeeeeeeeeeeeeeeeeeeeeeeeeeeeeeeeeeeeeeeeeeeeeeeeeeeeeeeeiuwerfjhiuoqejhdliuwqedhiluqwhdiquwhdiuwqhduiwehfiuqwehfdiuwehfiuwehfdiuewqhfiuwehfuiqwehduiqwhduiqwhdiuqwhduqwihdiuehuiwehfuiwhfuiqhfqiluhfdqwiludhqwiludhqwiludhqwliudhlqiwufhwleifuhqliudfhqwilduhwqdliuqwhliuqhdiulqwhhhhhhhhhhhhhhhhhhhhheueeeeeeeeeeeeeeeeeeeeeeeeeeeeeeeeeeeeeeeeeeeeeeeeeeeeeeeeeeeeeeeeeeeeeeeeeeeeeeeeiuwerfjhiuoqejhdliuwqedhiluqwhdiquwhdiuwqhduiwehfiuqwehfdiuwehfiuwehfdiuewqhfiuwehfuiqwehduiqwhduiqwhdiuqwhduqwihdiuehuiwehfuiwhfuiqhfqiluhfdqwiludhqwiludhqwiludhqwliudhlqiwufhwleifuhqliudfhqwilduhwqdliuqwhliuqhdiulqwhhhhhhhhhhhhhhhhhhhhheueeeeeeeeeeeeeeeeeeeeeeeeeeeeeeeeeeeeeeeeeeeeeeeeeeeeeeeeeeeeeeeeeeeeeeeeeeeeeeeeiuwerfjhiuoqejhdliuwqedhiluqwhdiquwhdiuwqhduiwehfiuqwehfdiuwehfiuwehfdiuewqhfiuwehfuiqwehduiqwhduiqwhdiuqwhduqwihdiuehuiwehfuiwhfuiqhfqiluhfdqwiludhqwiludhqwiludhqwliudhlqiwufhwleifuhqliudfhqwilduhwqdliuqwhliuqhdiulqwhhhhhhhhhhhhhhhhhhhhheueeeeeeeeeeeeeeeeeeeeeeeeeeeeeeeeeeeeeeeeeeeeeeeeeeeeeeeeeeeeeeeeeeeeeeeeeeeeeeeeiuwerfjhiuoqejhdliuwqedhiluqwhdiquwhdiuwqhduiwehfiuqwehfdiuwehfiuwehfdiuewqhfiuwehfuiqwehduiqwhduiqwhdiuqwhduqwihdiuehuiwehfuiwhfuiqhfqiluhfdqwiludhqwiludhqwiludhqwliudhlqiwufhwleifuhqliudfhqwilduhwqdliuqwhliuqhdiulqwhhhhhhhhhhhhhhhhhhhhheueeeeeeeeeeeeeeeeeeeeeeeeeeeeeeeeeeeeeeeeeeeeeeeeeeeeeeeeeeeeeeeeeeeeeeeeeeeeeeee\"}",
         "name": "DEPTNO",
         "type": "\"long\""
        },
        {
         "metadata": "{}",
         "name": "DNAME",
         "type": "\"string\""
        },
        {
         "metadata": "{}",
         "name": "LOC",
         "type": "\"string\""
        }
       ],
       "type": "table"
      }
     },
     "output_type": "display_data"
    }
   ],
   "source": [
    "%sql\n",
    "SELECT * FROM ctdwpoc.scdwpoc.dept"
   ]
  },
  {
   "cell_type": "code",
   "execution_count": 0,
   "metadata": {
    "application/vnd.databricks.v1+cell": {
     "cellMetadata": {
      "byteLimit": 2048000,
      "implicitDf": true,
      "rowLimit": 10000
     },
     "inputWidgets": {},
     "nuid": "6d7f06ba-7ced-4eae-a514-7cea0ad5ee3e",
     "showTitle": false,
     "tableResultSettingsMap": {},
     "title": ""
    }
   },
   "outputs": [
    {
     "data": {
      "text/html": [
       "<style scoped>\n",
       "  .table-result-container {\n",
       "    max-height: 300px;\n",
       "    overflow: auto;\n",
       "  }\n",
       "  table, th, td {\n",
       "    border: 1px solid black;\n",
       "    border-collapse: collapse;\n",
       "  }\n",
       "  th, td {\n",
       "    padding: 5px;\n",
       "  }\n",
       "  th {\n",
       "    text-align: left;\n",
       "  }\n",
       "</style><div class='table-result-container'><table class='table-result'><thead style='background-color: white'><tr><th>regexp_extract(dhkim@planit.ai, ^.*@(.*)$, 1)</th></tr></thead><tbody><tr><td>planit.ai</td></tr></tbody></table></div>"
      ]
     },
     "metadata": {
      "application/vnd.databricks.v1+output": {
       "addedWidgets": {},
       "aggData": [],
       "aggError": "",
       "aggOverflow": false,
       "aggSchema": [],
       "aggSeriesLimitReached": false,
       "aggType": "",
       "arguments": {},
       "columnCustomDisplayInfos": {},
       "data": [
        [
         "planit.ai"
        ]
       ],
       "datasetInfos": [
        {
         "name": "_sqldf",
         "schema": {
          "fields": [
           {
            "metadata": {
             "__autoGeneratedAlias": "true"
            },
            "name": "regexp_extract(dhkim@planit.ai, ^.*@(.*)$, 1)",
            "nullable": false,
            "type": "string"
           }
          ],
          "type": "struct"
         },
         "tableIdentifier": null,
         "typeStr": "pyspark.sql.connect.dataframe.DataFrame"
        }
       ],
       "dbfsResultPath": null,
       "isJsonSchema": true,
       "metadata": {
        "createTempViewForImplicitDf": true,
        "dataframeName": "_sqldf",
        "executionCount": 3
       },
       "overflow": false,
       "plotOptions": {
        "customPlotOptions": {},
        "displayType": "table",
        "pivotAggregation": null,
        "pivotColumns": null,
        "xColumns": null,
        "yColumns": null
       },
       "removedWidgets": [],
       "schema": [
        {
         "metadata": "{\"__autoGeneratedAlias\":\"true\"}",
         "name": "regexp_extract(dhkim@planit.ai, ^.*@(.*)$, 1)",
         "type": "\"string\""
        }
       ],
       "type": "table"
      }
     },
     "output_type": "display_data"
    }
   ],
   "source": [
    "%sql\n",
    "SELECT\n",
    "  regexp_extract('dhkim@planit.ai', '^.*@(.*)$', 1)\n",
    "  "
   ]
  }
 ],
 "metadata": {
  "application/vnd.databricks.v1+notebook": {
   "computePreferences": null,
   "dashboards": [],
   "environmentMetadata": {
    "base_environment": "",
    "environment_version": "2"
   },
   "inputWidgetPreferences": null,
   "language": "python",
   "notebookMetadata": {
    "mostRecentlyExecutedCommandWithImplicitDF": {
     "commandId": 8856687800503710,
     "dataframes": [
      "_sqldf"
     ]
    },
    "pythonIndentUnit": 4
   },
   "notebookName": "작업의 비교 - Notebook에서 SQL을 실행했을때의 과금 구조",
   "widgets": {}
  },
  "language_info": {
   "name": "python"
  }
 },
 "nbformat": 4,
 "nbformat_minor": 0
}
